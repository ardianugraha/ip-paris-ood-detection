{
 "cells": [
  {
   "cell_type": "markdown",
   "metadata": {},
   "source": [
    "# Out-of-Distribution Detection"
   ]
  },
  {
   "cell_type": "code",
   "execution_count": 1,
   "metadata": {},
   "outputs": [],
   "source": [
    "import os\n",
    "import sys\n",
    "import torch\n",
    "\n",
    "current_dir = os.getcwd()\n",
    "openood_dir = os.path.abspath(os.path.join(current_dir, '../OpenOOD/')) \n",
    "\n",
    "if openood_dir not in sys.path:\n",
    "    sys.path.append(openood_dir)\n",
    "\n",
    "from openood.networks import ResNet18_32x32\n",
    "from openood.evaluation_api import Evaluator"
   ]
  },
  {
   "cell_type": "code",
   "execution_count": 2,
   "metadata": {},
   "outputs": [
    {
     "name": "stdout",
     "output_type": "stream",
     "text": [
      "Using MPS backend\n"
     ]
    }
   ],
   "source": [
    "# check MPS\n",
    "if torch.backends.mps.is_available():\n",
    "    device = torch.device(\"mps\")\n",
    "    print(\"Using MPS backend\")\n",
    "else:\n",
    "    device = torch.device(\"cpu\")\n",
    "    print(\"Using CPU backend\")"
   ]
  },
  {
   "cell_type": "code",
   "execution_count": 3,
   "metadata": {},
   "outputs": [],
   "source": [
    "net = ResNet18_32x32(num_classes=100) # num_class=100 (CIFAR-100)\n",
    "net.load_state_dict(\n",
    "    torch.load('cifar100_resnet18_32x32_base_e100_lr0.1_default/s0/best.ckpt', map_location=device)\n",
    ")\n",
    "net.to(device)\n",
    "net.eval();"
   ]
  },
  {
   "cell_type": "code",
   "execution_count": 4,
   "metadata": {},
   "outputs": [],
   "source": [
    "postprocessor_name = \"knn\""
   ]
  },
  {
   "cell_type": "code",
   "execution_count": 5,
   "metadata": {},
   "outputs": [
    {
     "name": "stderr",
     "output_type": "stream",
     "text": [
      "Setup: 100%|██████████| 250/250 [00:43<00:00,  5.78it/s]\n"
     ]
    },
    {
     "name": "stdout",
     "output_type": "stream",
     "text": [
      "Starting automatic parameter search...\n"
     ]
    },
    {
     "name": "stderr",
     "output_type": "stream",
     "text": [
      "  0%|          | 0/5 [00:00<?, ?it/s]"
     ]
    },
    {
     "ename": "",
     "evalue": "",
     "output_type": "error",
     "traceback": [
      "\u001b[1;31mThe Kernel crashed while executing code in the current cell or a previous cell. \n",
      "\u001b[1;31mPlease review the code in the cell(s) to identify a possible cause of the failure. \n",
      "\u001b[1;31mClick <a href='https://aka.ms/vscodeJupyterKernelCrash'>here</a> for more info. \n",
      "\u001b[1;31mView Jupyter <a href='command:jupyter.viewOutput'>log</a> for further details."
     ]
    }
   ],
   "source": [
    "evaluator = Evaluator(\n",
    "    net,\n",
    "    id_name='cifar100',                     # the target ID dataset\n",
    "    data_root='./data',                    # change if necessary\n",
    "    config_root=None,                      # see notes above\n",
    "    preprocessor=None,                     # default preprocessing for the target ID dataset\n",
    "    postprocessor_name=postprocessor_name, # the postprocessor to use\n",
    "    postprocessor=None,                    # if you want to use your own postprocessor\n",
    "    batch_size=200,                        # for certain methods the results can be slightly affected by batch size\n",
    "    shuffle=False,\n",
    "    num_workers=2)                         # could use more num_workers outside colab"
   ]
  }
 ],
 "metadata": {
  "kernelspec": {
   "display_name": "venv-tf-metal",
   "language": "python",
   "name": "python3"
  },
  "language_info": {
   "codemirror_mode": {
    "name": "ipython",
    "version": 3
   },
   "file_extension": ".py",
   "mimetype": "text/x-python",
   "name": "python",
   "nbconvert_exporter": "python",
   "pygments_lexer": "ipython3",
   "version": "3.11.9"
  }
 },
 "nbformat": 4,
 "nbformat_minor": 2
}
